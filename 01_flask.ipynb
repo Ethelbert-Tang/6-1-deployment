{
 "nbformat": 4,
 "nbformat_minor": 2,
 "metadata": {
  "language_info": {
   "name": "python",
   "codemirror_mode": {
    "name": "ipython",
    "version": 3
   },
   "version": "3.7.4-final"
  },
  "orig_nbformat": 2,
  "file_extension": ".py",
  "mimetype": "text/x-python",
  "name": "python",
  "npconvert_exporter": "python",
  "pygments_lexer": "ipython3",
  "version": 3,
  "kernelspec": {
   "name": "python3",
   "display_name": "Python 3"
  }
 },
 "cells": [
  {
   "cell_type": "markdown",
   "metadata": {},
   "source": [
    "# Model Deployment\n",
    "\n",
    "We've been on the user (or query) side of APIs before, now we're going to be on the server side.\n",
    "\n",
    "The simplest and most popular python framework for serving an API is [Flask](https://flask.palletsprojects.com/en/1.1.x/quickstart/)\n",
    "\n",
    "The file `01_flask_example.py` has a minimal \"Hello World\" flask app.\n",
    "\n",
    "You can start it by running it from the command line `python 01_flask_example.py`\n",
    "\n",
    "Then go to your browser to `http://0.0.0.0:5000/` and you'll see `Hello World` being printed. Similarly if we do a `GET` request in python:"
   ]
  },
  {
   "cell_type": "code",
   "execution_count": 9,
   "metadata": {},
   "outputs": [
    {
     "output_type": "execute_result",
     "data": {
      "text/plain": "b'Hello, World!'"
     },
     "metadata": {},
     "execution_count": 9
    }
   ],
   "source": [
    "import requests\n",
    "\n",
    "r = requests.get('http://0.0.0.0:5000/')\n",
    "r.content"
   ]
  },
  {
   "cell_type": "markdown",
   "metadata": {},
   "source": [
    "Note that if we kill the server, this stops working.\n",
    "\n",
    "Here's a second example of a slightly more complex server setup emulating a machine learning app.\n",
    "\n",
    "It has a `GET` which returns the expected input format."
   ]
  },
  {
   "cell_type": "code",
   "execution_count": 11,
   "metadata": {},
   "outputs": [
    {
     "output_type": "stream",
     "name": "stdout",
     "text": "\n        Expected JSON input:\n        {\n            \"age\" : NUMBER\n            \"income\" : NUMBER\n        }\n        \n"
    }
   ],
   "source": [
    "r = requests.get('http://0.0.0.0:5000/')\n",
    "# Output is raw bytes\n",
    "print(r.content.decode())"
   ]
  },
  {
   "cell_type": "markdown",
   "metadata": {},
   "source": [
    "It also has a `POST` method which takes in a JSON to do model inference on:"
   ]
  },
  {
   "cell_type": "code",
   "execution_count": 24,
   "metadata": {},
   "outputs": [
    {
     "output_type": "execute_result",
     "data": {
      "text/plain": "b'{\"result\": -137874}'"
     },
     "metadata": {},
     "execution_count": 24
    }
   ],
   "source": [
    "import json\n",
    "\n",
    "query = json.dumps({\n",
    "    \"age\": 42,\n",
    "    \"income\": 69_000,\n",
    "})\n",
    "\n",
    "# Note that since we're picking up the `data` parameter on server side\n",
    "# We send it through the data parameter on client side, too.\n",
    "r = requests.post('http://0.0.0.0:5000/', data=query)\n",
    "r.content"
   ]
  },
  {
   "cell_type": "markdown",
   "metadata": {},
   "source": [
    "# Deploying to the outside world\n",
    "\n",
    "The main way to publish such an API is to get it on a web server. The main companies that rent web servers are Amazon's AWS, Google's GCP and Microsoft's Azure. Here we'll walk through doing it on AWS.\n",
    "\n",
    "1. Sign up for a free tier account\n",
    "\n",
    "2. Go to the `EC2 Dashboard` and --> `launch instance` (big button)\n",
    "\n",
    "AWS has a few services from storage, databases, event system functions (AWS lambda) and **virtual machines**. EC2 is the latter -- a virtual machine is just a server image.\n",
    "\n",
    "3. Launch a **FREE TIER** instance. Check \"Free tier only\" when selecting the instance. You can select the one you want, but Ubuntu and windows server are good picks depending on which command line you're most familiar with.\n",
    "\n",
    "You should be launching a `t2.micro` normally at this point. Note the \"FREE TIER\" marker.\n",
    "\n",
    "4. Review and launch, make a new private key.\n",
    "\n",
    "Go to the instance's page, and follow the steps to log in with **SSH**.\n",
    "\n",
    "Note that from here on, you can only control the instance with the commandline -- it's \"headless\" (no graphical user interface)\n",
    "\n",
    "5. Log in to the instance through ssh.\n",
    "\n",
    "6. If you're on Ubuntu, follow this code to download anaconda from the command line:"
   ]
  },
  {
   "cell_type": "code",
   "execution_count": null,
   "metadata": {},
   "outputs": [],
   "source": [
    "# see here: https://www.scivision.co/anaconda-python-with-windows-subsystem-for-linux/\n",
    "# also here: https://joshpeng.github.io/post/wsl/\n",
    "# download package\n",
    "wget https://repo.anaconda.com/miniconda/Miniconda3-latest-Linux-x86_64.sh\n",
    "# install\n",
    "bash Miniconda3*.sh\n",
    "# Add anaconda as system python forever\n",
    "nano ~/.profile\n",
    "# Add this line at the bottom (replace anaconda3_linux with anaconda dist name)\n",
    "export PATH=\"$HOME/anaconda3_linux/bin:$PATH\""
   ]
  },
  {
   "cell_type": "markdown",
   "metadata": {},
   "source": [
    "You can also install my preferred command line text editor, [Micro](https://micro-editor.github.io/) (nano, vim and emacs are all supremely unintuitive)"
   ]
  },
  {
   "cell_type": "code",
   "execution_count": null,
   "metadata": {},
   "outputs": [],
   "source": [
    "sudo snap install micro --classic\n",
    "\n",
    "# You can now run it with\n",
    "snap run micro\n",
    "\n",
    "# Open a file with\n",
    "snap run micro flask_example.py"
   ]
  },
  {
   "cell_type": "markdown",
   "metadata": {},
   "source": [
    "Lastly, you can open the flask app to public with:"
   ]
  },
  {
   "cell_type": "code",
   "execution_count": null,
   "metadata": {},
   "outputs": [],
   "source": [
    "export FLASK_APP=hello.py\n",
    "\n",
    "# Run open to the internet\n",
    "flask run --host=0.0.0.0"
   ]
  }
 ]
}